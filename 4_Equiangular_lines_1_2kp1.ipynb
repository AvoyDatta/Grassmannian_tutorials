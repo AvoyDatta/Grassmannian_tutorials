{
  "nbformat": 4,
  "nbformat_minor": 0,
  "metadata": {
    "colab": {
      "name": "Equiangular_lines_1_2kp1.ipynb",
      "provenance": [],
      "collapsed_sections": [],
      "authorship_tag": "ABX9TyNJ/gltJ1RfrpAzA8ry03CT",
      "include_colab_link": true
    },
    "kernelspec": {
      "name": "python3",
      "display_name": "Python 3"
    }
  },
  "cells": [
    {
      "cell_type": "markdown",
      "metadata": {
        "id": "view-in-github",
        "colab_type": "text"
      },
      "source": [
        "<a href=\"https://colab.research.google.com/github/vinayprabhu/Grassmannian_tutorials/blob/master/Equiangular_lines_1_2kp1.ipynb\" target=\"_parent\"><img src=\"https://colab.research.google.com/assets/colab-badge.svg\" alt=\"Open In Colab\"/></a>"
      ]
    },
    {
      "cell_type": "markdown",
      "metadata": {
        "id": "tjJ9Uweq-e62",
        "colab_type": "text"
      },
      "source": [
        "# This notebook walks you through the procedure to generate $K$ equiangular line packing for $n$-dimensional spaces and angle of separation $cos^{-1}(\\frac{1}{2k+1})$.\n",
        "\n",
        "Notations:\n",
        "\n",
        "\n",
        "*   $k \\in \\mathbb{Z}$: Positive integer (used to specify $\\alpha$)\n",
        "*   $\\alpha$:= arccos(1/(2k+1)) (Angle of separation - The arccos is usually dropped in math papers) \n",
        "*   n:= Dimensionality of the embedding space (Or the 'Mother' dimension )\n",
        "*   K:= Number of equiangular lines\n",
        "\n",
        "STEPS:\n",
        "1. Compute the Kernel matrix:   $M\\in\\mathbb{R}^{(k+1) \\times (k+1)}:= (1+\\alpha)I_{k+1}-\\alpha E_{k+1}$ ( Kernel matrix)\n",
        "2. Generate the Grammian matrix,$G\\in \\mathbb{R}^{\\nu (k+1) \\times \\nu (k+1)}$, by repeating $M$,  $\\nu=\\frac{(n-1)}{k}$ times and setting $G[G==0]=\\alpha$\n",
        "(Note that the rank of this Grammian is $rank(G)=n=\\nu k +1$)\n",
        "3. Perform Jordan decomposition of $G=PDP^{-1}$\n",
        "4. Now, D will have precisely K non-zero eigenvalues. Let's extract the sub-matrix of these $K$ non-zero eigenvalues out and also the eigenvectors associated with these to get $D_K$ and $P_K$ respectively.\n",
        "5. Evaluated the yield the codebook matrix, $F=P_KD_K^{\\frac{1}{2}} \\in \\mathbb{R}^{n \\times K}$, where $K=\\frac{k+1}{k}(n-1)$ (Note that the Grammian by definition is $G=FF^T$)\n",
        "\n",
        "Examples:\n",
        "1. For $\\alpha=1/3$, we can pack $2(n-1)$ lines in $n$-D\n",
        "2. For $\\alpha=1/5$, we can pack $\\frac{3}{2}(n-1)$ lines in $n$-D\n",
        "3. For $\\alpha=1/7$, we can pack $\\frac{4}{3}(n-1)$ lines in $n$-D\n",
        "\n"
      ]
    },
    {
      "cell_type": "code",
      "metadata": {
        "id": "3EKlS7DDrmwG",
        "colab_type": "code",
        "outputId": "fbe51255-5912-4024-a145-d3189f085c3e",
        "colab": {
          "base_uri": "https://localhost:8080/",
          "height": 35
        }
      },
      "source": [
        "import numpy as np\n",
        "from scipy.linalg import block_diag\n",
        "# Don't do linear algebra in Python without these two lines\n",
        "np.set_printoptions(suppress=True)\n",
        "from collections import Counter\n",
        "import matplotlib.pyplot as plt\n",
        "\n",
        "%precision 3"
      ],
      "execution_count": 1,
      "outputs": [
        {
          "output_type": "execute_result",
          "data": {
            "text/plain": [
              "'%.3f'"
            ]
          },
          "metadata": {
            "tags": []
          },
          "execution_count": 1
        }
      ]
    },
    {
      "cell_type": "code",
      "metadata": {
        "id": "6GC8zmGaTQcw",
        "colab_type": "code",
        "colab": {
          "base_uri": "https://localhost:8080/",
          "height": 477
        },
        "outputId": "2b9a7604-8764-4c4f-990a-6e798d8b0530"
      },
      "source": [
        "# Regarding the number of dimensions you will need:\n",
        "def est_n(K,k=1):\n",
        "  \"\"\"\n",
        "  # K :=This is the number of lines (or classes)\n",
        "  # k:= This gives us the angle of sepration as np.arccos(alpha=1/(2*k+1))\n",
        "  \"\"\"\n",
        "  # Step-1: Figure out how many dimensions you will need\n",
        "  alpha=1/(2*k+1)\n",
        "  # We know that n-D space can 'host'  K=((k+1)/k)*(n-1) lines that are arccos(1/(2*k+1)) apart\n",
        "  # So, in ML classification problems, K is given (and the ML'er sets alpha). So, let's solve for n\n",
        "  n_rep=int(np.ceil(K/(k+1)))\n",
        "  return n_rep*k+1\n",
        "\n",
        "n_vec=[]\n",
        "k_vec=np.arange(1,26)\n",
        "print(k_vec)\n",
        "K=1000# ImageNet dataset\n",
        "for k in k_vec:\n",
        "  n_vec.append(est_n(K,k))\n",
        "\n",
        "plt.figure(figsize=(8,6))\n",
        "plt.subplot(2,1,1)\n",
        "plt.plot(k_vec,n_vec,'-*');\n",
        "plt.xticks(k_vec);\n",
        "plt.grid('On')\n",
        "plt.ylim([500,1000])\n",
        "plt.xlim([1,25])\n",
        "plt.xlabel(r'Separation factor k ($\\alpha=arccos(\\frac{1}{(2k+1)})$)')\n",
        "plt.ylabel('Embedding dimensionality (n)')\n",
        "plt.title('Variation of the embedding dimension (n) with Separation factor k')\n",
        "plt.savefig('n_k.pdf',bbox_inches='tight')\n",
        "\n",
        "plt.subplot(2,1,2)\n",
        "ang_vec=np.rad2deg(np.abs(np.arccos(1/(2*k_vec+1))))\n",
        "plt.plot(ang_vec,n_vec,'-*');\n",
        "# plt.xticks(k_vec);\n",
        "plt.grid('On')\n",
        "plt.ylim([500,1000])\n",
        "plt.xlim([ang_vec.min(),ang_vec.max()])\n",
        "plt.xlabel(r'Separation factor k ($\\alpha=arccos(\\frac{1}{(2k+1)})$)')\n",
        "plt.ylabel('Embedding dimensionality (n)')\n",
        "plt.title(r'Variation of the embedding dimension (n) with angle $\\alpha$')\n",
        "plt.tight_layout()\n",
        "plt.savefig('n_k_alpha.pdf',bbox_inches='tight')"
      ],
      "execution_count": 2,
      "outputs": [
        {
          "output_type": "stream",
          "text": [
            "[ 1  2  3  4  5  6  7  8  9 10 11 12 13 14 15 16 17 18 19 20 21 22 23 24\n",
            " 25]\n"
          ],
          "name": "stdout"
        },
        {
          "output_type": "display_data",
          "data": {
            "image/png": "[encoded data removed]",
            "text/plain": [
              "<Figure size 576x432 with 2 Axes>"
            ]
          },
          "metadata": {
            "tags": []
          }
        }
      ]
    },
    {
      "cell_type": "markdown",
      "metadata": {
        "id": "TYlXjlisW-mS",
        "colab_type": "text"
      },
      "source": [
        "# The generalized function that spits out the equiangular codebooks:"
      ]
    },
    {
      "cell_type": "code",
      "metadata": {
        "id": "urJMCYLttcLn",
        "colab_type": "code",
        "colab": {}
      },
      "source": [
        "def elp_gen(K,k=1):\n",
        "  \"\"\"\n",
        "  # K :=This is the number of lines (or classes)\n",
        "  # k:= This gives us the angle of sepration as np.arccos(alpha=1/(2*k+1))\n",
        "  \"\"\"\n",
        "  # Step-1: Figure out how many dimensions you will need\n",
        "  alpha=1/(2*k+1)\n",
        "  # We know that n-D space can 'host'  K=((k+1)/k)*(n-1) lines that are arccos(1/(2*k+1)) apart\n",
        "  # So, in ML classification problems, K is given (and the ML'er sets alpha). So, let's solve for n\n",
        "  n_rep=int(np.ceil(K/(k+1)))\n",
        "  n=n_rep*k+1\n",
        "  print(f'Given separation k={k}, i.e. alpha={np.round(alpha,3)} and number of lines {K}, \\n the number of dimensions you will need is {n}')\n",
        "  # Generate the kernel matrix\n",
        "  M=(1+alpha)*np.eye(k+1)-alpha*np.ones((k+1,k+1))\n",
        "  # Genrate the Grammian\n",
        "  G = block_diag(*[M]*n_rep)\n",
        "  G[G==0]=alpha\n",
        "  print(f'The rank of the Grammian is {np.linalg.matrix_rank(G)}')\n",
        "  # Perform Jordan decomposition and extract the codebook from the non-zero eigenvalue components\n",
        "  D,P=np.linalg.eigh(G)\n",
        "  code_columns=np.where(~ np.isclose(D,0))[0]\n",
        "  P_code=P[0:K,code_columns]\n",
        "  D_code=D[code_columns]\n",
        "  F_code=P_code @ np.sqrt(np.diag(D_code)) \n",
        "  # Verification via Pairwise distance comparisons\n",
        "  dist_mat=F_code @ F_code.T\n",
        "  ang_vec=np.abs(np.round(dist_mat[np.triu_indices(dist_mat.shape[0])],3))\n",
        "  print(f'The cos-angles in the codebook are {Counter(ang_vec)}')\n",
        "  cond_1=len(np.unique(ang_vec))==2\n",
        "  cond_2=np.allclose(ang_vec[ang_vec!=1],alpha,atol=1e-2)\n",
        "  if(cond_1 & cond_2):\n",
        "    file_name=f'embedding_{n}_{K}_{k}.npy'\n",
        "    print(f'All the lines are {alpha} apart!\\n   Saving the codebook as {file_name}')\n",
        "    np.save(file_name, F_code)\n",
        "  else:\n",
        "    print(f'Lines are not {alpha} apart :( \\n Something went wrong. No codebooks for you!)')\n",
        "    F_code=np.empty(0)\n",
        "  return F_code"
      ],
      "execution_count": 0,
      "outputs": []
    },
    {
      "cell_type": "markdown",
      "metadata": {
        "id": "zKi_VdDfS4xB",
        "colab_type": "text"
      },
      "source": [
        "# For the Imagenet dataset (K=1000)"
      ]
    },
    {
      "cell_type": "code",
      "metadata": {
        "id": "Rr7OOZK6S4Nl",
        "colab_type": "code",
        "colab": {
          "base_uri": "https://localhost:8080/",
          "height": 454
        },
        "outputId": "c17b3264-cbe7-4b7a-e872-8debd7a59dd3"
      },
      "source": [
        "K=1000\n",
        "for k in range(1,5):\n",
        "  elp_gen(K,k)"
      ],
      "execution_count": 4,
      "outputs": [
        {
          "output_type": "stream",
          "text": [
            "Given separation k=1, i.e. alpha=0.333 and number of lines 1000, \n",
            " the number of dimensions you will need is 501\n",
            "The rank of the Grammian is 501\n",
            "The cos-angles in the codebook are Counter({0.333: 499500, 1.0: 1000})\n",
            "All the lines are 0.3333333333333333 apart!\n",
            "   Saving the codebook as embedding_501_1000_1.npy\n",
            "Given separation k=2, i.e. alpha=0.2 and number of lines 1000, \n",
            " the number of dimensions you will need is 669\n",
            "The rank of the Grammian is 669\n",
            "The cos-angles in the codebook are Counter({0.2: 499500, 1.0: 1000})\n",
            "All the lines are 0.2 apart!\n",
            "   Saving the codebook as embedding_669_1000_2.npy\n",
            "Given separation k=3, i.e. alpha=0.143 and number of lines 1000, \n",
            " the number of dimensions you will need is 751\n",
            "The rank of the Grammian is 751\n",
            "The cos-angles in the codebook are Counter({0.143: 499500, 1.0: 1000})\n",
            "All the lines are 0.14285714285714285 apart!\n",
            "   Saving the codebook as embedding_751_1000_3.npy\n",
            "Given separation k=4, i.e. alpha=0.111 and number of lines 1000, \n",
            " the number of dimensions you will need is 801\n",
            "The rank of the Grammian is 801\n",
            "The cos-angles in the codebook are Counter({0.111: 499500, 1.0: 1000})\n",
            "All the lines are 0.1111111111111111 apart!\n",
            "   Saving the codebook as embedding_801_1000_4.npy\n"
          ],
          "name": "stdout"
        }
      ]
    }
  ]
}
