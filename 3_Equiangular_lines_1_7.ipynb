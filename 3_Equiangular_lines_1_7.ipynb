{
  "nbformat": 4,
  "nbformat_minor": 0,
  "metadata": {
    "colab": {
      "name": "Equiangular_lines_1_7.ipynb",
      "provenance": [],
      "collapsed_sections": [],
      "mount_file_id": "13_gg1zuTZbIB8cv3nZCCToUXa235zbql",
      "authorship_tag": "ABX9TyOAF1ZFYsxWK2RsfZosuoBN",
      "include_colab_link": true
    },
    "kernelspec": {
      "name": "python3",
      "display_name": "Python 3"
    }
  },
  "cells": [
    {
      "cell_type": "markdown",
      "metadata": {
        "id": "view-in-github",
        "colab_type": "text"
      },
      "source": [
        "<a href=\"https://colab.research.google.com/github/vinayprabhu/Grassmannian_tutorials/blob/master/Equiangular_lines_1_7.ipynb\" target=\"_parent\"><img src=\"https://colab.research.google.com/assets/colab-badge.svg\" alt=\"Open In Colab\"/></a>"
      ]
    },
    {
      "cell_type": "markdown",
      "metadata": {
        "id": "qaDq2N4DbtkI",
        "colab_type": "text"
      },
      "source": [
        "Examples on Gram matrices of equiangular lines with angle $1/7$\n",
        "1.   152 lines in $\\mathbb{R}^{39}$\n",
        "2.   168 lines in $\\mathbb{R}^{40}$\n",
        "3.   200 lines in $\\mathbb{R}^{41}$\n",
        "4.   248 lines in $\\mathbb{R}^{42}$\n",
        "\n",
        "\n",
        "Created by [Y-C. R. Lin](http://math.ntnu.edu.tw/~yclin/Gram1-7/) on Sunday, Oct. 14, 2018"
      ]
    },
    {
      "cell_type": "code",
      "metadata": {
        "id": "yTVLt5sRcFNY",
        "colab_type": "code",
        "colab": {
          "base_uri": "https://localhost:8080/",
          "height": 34
        },
        "outputId": "987289b5-e1d5-41ca-e0c0-1949173d8814"
      },
      "source": [
        "import os\n",
        "import numpy as np\n",
        "import matplotlib.pyplot as plt\n",
        "import pandas as pd\n",
        "from fractions import Fraction# For parsing the txt files\n",
        "np.set_printoptions(suppress=True)\n",
        "%precision 3"
      ],
      "execution_count": 1,
      "outputs": [
        {
          "output_type": "execute_result",
          "data": {
            "text/plain": [
              "'%.3f'"
            ]
          },
          "metadata": {
            "tags": []
          },
          "execution_count": 1
        }
      ]
    },
    {
      "cell_type": "code",
      "metadata": {
        "id": "4nJqEStAdWF5",
        "colab_type": "code",
        "colab": {}
      },
      "source": [
        "data_dir=os.path.join(os.getcwd(),'drive','My Drive','Colab Notebooks','Gram_1_7')\n",
        "txt_files=os.listdir(data_dir)\n",
        "txt_files=['39-152-Gram.txt',\n",
        " '40-168-Gram.txt',\n",
        " '41-200-Gram.txt',\n",
        " '42-248-Gram.txt']"
      ],
      "execution_count": 0,
      "outputs": []
    },
    {
      "cell_type": "code",
      "metadata": {
        "id": "9-KeegUbdpeW",
        "colab_type": "code",
        "colab": {}
      },
      "source": [
        "def txt_parser(filename,data_dir):\n",
        "  f_list=filename.split('.')[0].split('-')\n",
        "  n=int(f_list[0])\n",
        "  K=int(f_list[1])\n",
        "  print(n,K)\n",
        "  mat=np.zeros((K,K))\n",
        "  df=pd.read_csv(os.path.join(data_dir,filename),header=None)\n",
        "  for i in range(df.shape[0]):\n",
        "    file_line=df.iloc[i,:].values.astype(str)[0].strip('[]')\n",
        "    arr=[]\n",
        "    for s in file_line.split(' '):\n",
        "      if(len(s)):\n",
        "        arr.append(float(Fraction(s)))\n",
        "    if(len(arr)==K):\n",
        "      mat[i,:]=arr\n",
        "    else:\n",
        "      print(f'Error! length is {len(arr)}')\n",
        "  return mat,n,K \n",
        "\n",
        "def codebook_gen(G,n,K):\n",
        "  print(f'About to generate equi-angular line packings in {n}-D euclidean space.\\n  This will yield equiangular lines with angle 1/7')\n",
        "  # 1: Perform rank-check!\n",
        "  if(np.linalg.matrix_rank(G)!=n):\n",
        "    print('Rank of the Grammian not matching!')\n",
        "    F_code=np.empty(0)\n",
        "  else:\n",
        "    # 3: Jordan decomposition and extracting codebooks\n",
        "    D,P=np.linalg.eigh(G)\n",
        "    code_columns=np.where(~ np.isclose(D,0))[0]\n",
        "    P_code=P[:,code_columns]\n",
        "    F_code=P_code @ np.sqrt(np.diag(D[code_columns]))\n",
        "    # 4: Pairwise distance comparisons\n",
        "    dist_mat=F_code @ F_code.T\n",
        "    pairwise_dist=np.abs(dist_mat[np.triu_indices(K,k=1)])\n",
        "    if(np.allclose(pairwise_dist,1/7)):\n",
        "      file_name=f'embedding_{n}_{K}.npy'\n",
        "      print(f'All the lines are 1/7 away!\\n   Saving the codebook as {file_name}')\n",
        "      np.save(file_name, F_code)\n",
        "    else:\n",
        "      print('Lines are not 1/7 away :( \\n Something went wrong. No codebooks for you!)')\n",
        "      F_code=np.empty(0)\n",
        "  return F_code\n"
      ],
      "execution_count": 0,
      "outputs": []
    },
    {
      "cell_type": "code",
      "metadata": {
        "id": "tJar-svmtFSc",
        "colab_type": "code",
        "colab": {}
      },
      "source": [
        "out_dir=os.path.join(data_dir,'npy')\n",
        "if not os.path.exists(out_dir):\n",
        "    os.makedirs(out_dir)"
      ],
      "execution_count": 0,
      "outputs": []
    },
    {
      "cell_type": "code",
      "metadata": {
        "id": "QVqHqX7vec3G",
        "colab_type": "code",
        "outputId": "491455b7-1532-46f1-bbd7-7c03b66c8660",
        "colab": {
          "base_uri": "https://localhost:8080/",
          "height": 561
        }
      },
      "source": [
        "for filename in txt_files:\n",
        "  print(filename)\n",
        "  G_out,n,K=txt_parser(filename,data_dir)\n",
        "  print(G_out.shape)\n",
        "  print('Saving the Grammian!')\n",
        "  np.save(filename.strip('.txt')+'.npy',G_out)\n",
        "  codebook_gen(G_out,n,K)"
      ],
      "execution_count": 5,
      "outputs": [
        {
          "output_type": "stream",
          "text": [
            "39-152-Gram.txt\n",
            "39 152\n",
            "(152, 152)\n",
            "Saving the Grammian!\n",
            "About to generate equi-angular line packings in 39-D euclidean space.\n",
            "  This will yield equiangular lines with angle 1/7\n",
            "All the lines are 1/7 away!\n",
            "   Saving the codebook as embedding_39_152.npy\n",
            "40-168-Gram.txt\n",
            "40 168\n",
            "(168, 168)\n",
            "Saving the Grammian!\n",
            "About to generate equi-angular line packings in 40-D euclidean space.\n",
            "  This will yield equiangular lines with angle 1/7\n",
            "All the lines are 1/7 away!\n",
            "   Saving the codebook as embedding_40_168.npy\n",
            "41-200-Gram.txt\n",
            "41 200\n",
            "(200, 200)\n",
            "Saving the Grammian!\n",
            "About to generate equi-angular line packings in 41-D euclidean space.\n",
            "  This will yield equiangular lines with angle 1/7\n",
            "All the lines are 1/7 away!\n",
            "   Saving the codebook as embedding_41_200.npy\n",
            "42-248-Gram.txt\n",
            "42 248\n",
            "(248, 248)\n",
            "Saving the Grammian!\n",
            "About to generate equi-angular line packings in 42-D euclidean space.\n",
            "  This will yield equiangular lines with angle 1/7\n",
            "All the lines are 1/7 away!\n",
            "   Saving the codebook as embedding_42_248.npy\n"
          ],
          "name": "stdout"
        }
      ]
    }
  ]
}
